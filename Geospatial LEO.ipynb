{
 "cells": [
  {
   "attachments": {},
   "cell_type": "markdown",
   "id": "b910363e",
   "metadata": {},
   "source": [
    "# Computational analysis"
   ]
  },
  {
   "attachments": {},
   "cell_type": "markdown",
   "id": "744a3e34",
   "metadata": {},
   "source": [
    "For this analysis, three datasets are required. These are;\n",
    "\n",
    " 1. Kenya boundary shapefile\n",
    " 2. Kenya Population count by spatial distribution"
   ]
  },
  {
   "attachments": {},
   "cell_type": "markdown",
   "id": "d2f9369c",
   "metadata": {},
   "source": [
    "We will need some packages to get started."
   ]
  },
  {
   "cell_type": "code",
   "execution_count": null,
   "id": "e47d8477",
   "metadata": {},
   "outputs": [],
   "source": [
    "import os                 # for basic operating system functions\n",
    "import rasterio\n",
    "import warnings\n",
    "import numpy as np\n",
    "import geopandas as gpd   # For working with geospatial dataframes\n",
    "import matplotlib.pyplot as plt\n",
    "import pandas as pd       # To load .csv data as a dataframe\n",
    "import seaborn as sns\n",
    "from rasterio.mask import mask\n",
    "from rasterstats import zonal_stats\n",
    "from shapely.geometry import MultiPolygon\n",
    "warnings.filterwarnings('ignore')\n",
    "from colorspacious import cspace_converter"
   ]
  },
  {
   "attachments": {},
   "cell_type": "markdown",
   "id": "f23bb77a",
   "metadata": {},
   "source": [
    "## 1. Process Kenya boundary "
   ]
  },
  {
   "attachments": {},
   "cell_type": "markdown",
   "id": "d160b684",
   "metadata": {},
   "source": [
    "First we obtain a csv country metadafile containing information about 250 territories and store it in a data directory"
   ]
  },
  {
   "cell_type": "code",
   "execution_count": null,
   "id": "e40bbd18",
   "metadata": {},
   "outputs": [],
   "source": [
    "os.getcwd()"
   ]
  },
  {
   "cell_type": "code",
   "execution_count": null,
   "id": "cb8ab63f",
   "metadata": {},
   "outputs": [],
   "source": [
    "os.chdir(\"C:/Users/bmwan/Desktop/5.2/Link Budget\")"
   ]
  },
  {
   "cell_type": "code",
   "execution_count": null,
   "id": "8e51cfea",
   "metadata": {},
   "outputs": [],
   "source": [
    "metadata_file = os.path.join('data', 'countries.csv')"
   ]
  },
  {
   "cell_type": "markdown",
   "id": "735fc23f",
   "metadata": {},
   "source": [
    "Next we create a function that read the country of interest, process the boundary information and store it in a folder named by the country's **\"ISO3\"** code as well as create regions subfolder to contain the processed shapefiles. For instance, Kenya will be **\"KEN\"**\n"
   ]
  },
  {
   "cell_type": "code",
   "execution_count": null,
   "id": "14daba3f",
   "metadata": {},
   "outputs": [],
   "source": [
    "def country_directory(csv_filename, country_iso3):\n",
    "    \"\"\"\n",
    "    Create country folder and regions subfolder within it.\n",
    "    \n",
    "    Parameters\n",
    "    ----------\n",
    "    csv_filename : string\n",
    "        Name of the country metadata file.\n",
    "    country_iso3 : string\n",
    "        Country iso3 to be processed.\n",
    "        \n",
    "    Returns\n",
    "    -------\n",
    "    output : list\n",
    "        List containing country ISO3 and gid_region\n",
    "    \"\"\"\n",
    "    countries = pd.read_csv(csv_filename, encoding = 'latin-1')\n",
    "    \n",
    "    output = []\n",
    "    \n",
    "    for idx, country in countries.iterrows():\n",
    "        \n",
    "        if not country['iso3'] == country_iso3: #If the current country iso3 does not match the entered iso3...\n",
    "            continue                            #continue in the loop to the next country\n",
    "\n",
    "        else:   \n",
    "            iso3 = country['iso3']\n",
    "            gid_region = country['gid_region']\n",
    "            country_name = country['country']\n",
    "        \n",
    "        output.append(iso3)\n",
    "        output.append(gid_region)\n",
    "        \n",
    "        country_folder_path = os.path.join('data', 'processed', iso3) #Create folder called \"processed\" to store\n",
    "        if not os.path.exists(country_folder_path):                   #country folder\n",
    "            os.makedirs(country_folder_path)                          #Only create folder if it doest exist already\n",
    "            \n",
    "        regions_folder_path = os.path.join('data', 'processed', iso3, 'regions') #Create regions folder within\n",
    "        if not os.path.exists(regions_folder_path):\n",
    "            os.makedirs(regions_folder_path)\n",
    "\n",
    "        print('processing {}'.format(country_name))      \n",
    "    \n",
    "    return output"
   ]
  },
  {
   "attachments": {},
   "cell_type": "markdown",
   "id": "cc3c39f1",
   "metadata": {},
   "source": [
    "We then use the function to create the folder for Kenya"
   ]
  },
  {
   "cell_type": "code",
   "execution_count": null,
   "id": "ab2256d1",
   "metadata": {},
   "outputs": [],
   "source": [
    "country_directory(metadata_file, 'KEN')"
   ]
  },
  {
   "attachments": {},
   "cell_type": "markdown",
   "id": "8d0f9b56",
   "metadata": {},
   "source": [
    "Next we download global administrative maps data from https://gadm.org/download_world.html for the whole world. The current GADM version is 4.1 consisting of 400,276 administrative areas globally.\n",
    "\n",
    "The data is downloaded as a single database in GeoPackage format and stored in the folder called **\"raw\"**"
   ]
  },
  {
   "attachments": {},
   "cell_type": "markdown",
   "id": "204301de",
   "metadata": {},
   "source": [
    "We then specify the location of the data"
   ]
  },
  {
   "cell_type": "code",
   "execution_count": null,
   "id": "10c699d0",
   "metadata": {},
   "outputs": [],
   "source": [
    "boundary_data = os.path.join('data', 'raw', 'gadm36_1.shp') "
   ]
  },
  {
   "cell_type": "markdown",
   "id": "f21d6340",
   "metadata": {},
   "source": [
    "We create a function that read the global administrative boundaries, select a country that we specify using the **\"ISO3\"** code process the boundaries and store in the corresponding folder.  "
   ]
  },
  {
   "cell_type": "code",
   "execution_count": null,
   "id": "fbcc752d",
   "metadata": {},
   "outputs": [],
   "source": [
    "def country_boundary(boundary_data_path, country_iso3, gid_level):\n",
    "    \"\"\"\n",
    "    Process country shapefile.\n",
    "    \n",
    "    Parameters\n",
    "    ----------\n",
    "    boundary_data_path : string\n",
    "        Location of the GADM boundary data.\n",
    "    country_iso3 : string\n",
    "        Country iso3 to be processed.\n",
    "    gid_level: string\n",
    "        GID boundary spatial level to process\n",
    "        \n",
    "    Returns\n",
    "    -------\n",
    "    none  \n",
    "    \"\"\"\n",
    "    global_boundaries = gpd.read_file(boundary_data_path)\n",
    "    \n",
    "    iso3 = country_directory(metadata_file, country_iso3)[0]\n",
    "    gid_region = country_directory(metadata_file, country_iso3)[1]\n",
    "    \n",
    "    country_boundaries = global_boundaries[global_boundaries[gid_level] == iso3]\n",
    "    gid_level_name = country_boundaries['NAME_1']\n",
    "    \n",
    "    filename = 'gadm_{}.shp'.format(gid_region)\n",
    "    path_out = os.path.join('data', 'processed', iso3, 'regions', filename)\n",
    "    country_boundaries.to_file(path_out)\n",
    "    \n",
    "    print('processing {}'.format(gid_level_name))\n",
    "    \n",
    "    return None"
   ]
  },
  {
   "attachments": {},
   "cell_type": "markdown",
   "id": "0338a974",
   "metadata": {},
   "source": [
    "We then apply our function for Kenya, (*'ISO3'* = *'KEN'*)"
   ]
  },
  {
   "cell_type": "code",
   "execution_count": null,
   "id": "b8d1c807",
   "metadata": {},
   "outputs": [],
   "source": [
    "country_boundary(boundary_data, 'KEN', 'GID_0')"
   ]
  },
  {
   "attachments": {},
   "cell_type": "markdown",
   "id": "416c9e21",
   "metadata": {},
   "source": [
    "## 2. Kenya Population count by spatial distribution"
   ]
  },
  {
   "attachments": {},
   "cell_type": "markdown",
   "id": "65272964",
   "metadata": {},
   "source": [
    "Next, we need to download and process population data"
   ]
  },
  {
   "attachments": {},
   "cell_type": "markdown",
   "id": "793ffb55",
   "metadata": {},
   "source": [
    "The population count data is downloaded from WorldPop website (https://hub.worldpop.org/geodata/listing?id=64). \n",
    "\n",
    "The data downloaded is the unconstrained global mosaics 2000-2020 for 2020. The layer represent the estimated total number of people per grid-cell, in Geotiff format at a resolution of 30 arc (approximately 1km at the equator), in the WGS84 Geographic Coordinate System.\n",
    "\n",
    "The downloaded data is stored in the *\"raw\"* folder."
   ]
  },
  {
   "attachments": {},
   "cell_type": "markdown",
   "id": "16213180",
   "metadata": {},
   "source": [
    "We specify the location of the data and load the layer to raster input-output (rasterio) object"
   ]
  },
  {
   "attachments": {},
   "cell_type": "markdown",
   "id": "af2a2f77",
   "metadata": {},
   "source": [
    "#### Preliminary data check "
   ]
  },
  {
   "cell_type": "code",
   "execution_count": null,
   "id": "9ffeec62",
   "metadata": {},
   "outputs": [],
   "source": [
    "filename = (\"C:/Users/bmwan/Desktop/5.2/Link Budget/data/raw/ppp_2020_1km_Aggregated.tif\")\n",
    "folder = os.path.join('data', 'raw', 'worldpop')\n",
    "path_population = os.path.join(folder, filename)"
   ]
  },
  {
   "cell_type": "markdown",
   "id": "08bf955a",
   "metadata": {},
   "source": [
    "These set of cells are just to ensure that both the data layers are working properly as well as checking out their contents.\n"
   ]
  },
  {
   "cell_type": "code",
   "execution_count": null,
   "id": "ed128e3e",
   "metadata": {},
   "outputs": [],
   "source": [
    "my_raster_image = rasterio.open(path_population)\n",
    "my_raster_image"
   ]
  },
  {
   "attachments": {},
   "cell_type": "markdown",
   "id": "a06d2970",
   "metadata": {},
   "source": [
    "We can then access the Python API interface for the .tif population layer file based on the Numpy N-dimensional arrays"
   ]
  },
  {
   "attachments": {},
   "cell_type": "markdown",
   "id": "e590f57d",
   "metadata": {},
   "source": [
    "<div class=\"alert alert-block alert-warning\">\n",
    "\n",
    "<b>!! Attention !!</b> This my take long since it is loading the whole world!.\n",
    "\n",
    "</div>"
   ]
  },
  {
   "cell_type": "code",
   "execution_count": null,
   "id": "387c6dd6",
   "metadata": {},
   "outputs": [],
   "source": [
    "data = my_raster_image.read(1)\n",
    "print(data)"
   ]
  },
  {
   "attachments": {},
   "cell_type": "markdown",
   "id": "06324905",
   "metadata": {},
   "source": [
    "We now query our population raster layer using the Kenyan boundary shapefile processed in section 1.\n",
    "\n",
    "Let us load the processed Kenyan shapefile"
   ]
  },
  {
   "cell_type": "code",
   "execution_count": null,
   "id": "ffe2c5f4",
   "metadata": {},
   "outputs": [],
   "source": [
    "filename = 'gadm_1.shp'\n",
    "path_boundary = os.path.join('data', 'processed', 'KEN', 'regions', filename)\n",
    "boundaries = gpd.read_file(path_boundary, crs = 'epsg:4326')\n",
    "boundaries"
   ]
  },
  {
   "attachments": {},
   "cell_type": "markdown",
   "id": "4f49c2e0",
   "metadata": {},
   "source": [
    "#### Process Kenyan population layer"
   ]
  },
  {
   "attachments": {},
   "cell_type": "markdown",
   "id": "f6beb082",
   "metadata": {},
   "source": [
    "We now write a function that load the data layer, affine function, eliminate negative cell numbers, sum all the cells within the boundary of interest and return a csv file for plotting."
   ]
  },
  {
   "cell_type": "code",
   "execution_count": null,
   "id": "505cf99c",
   "metadata": {},
   "outputs": [],
   "source": [
    "def process_population_tif(data_name, grid_level):\n",
    "    \"\"\"\n",
    "    Process population layer.\n",
    "    \n",
    "    Parameters\n",
    "    ----------\n",
    "    data_name: string\n",
    "        Filename of the population raster layer\n",
    "    gid_level: string\n",
    "        GID boundary spatial level to process\n",
    "        \n",
    "    Returns\n",
    "    -------\n",
    "    output: dictionary.\n",
    "        Dictionary containing the country population and grid level\n",
    "    \"\"\"\n",
    "    output = []\n",
    "    for idx, boundary in boundaries.iterrows():\n",
    "        \n",
    "        print('Working on {}'.format(boundary['NAME_1']))\n",
    "        \n",
    "        with rasterio.open(data_name) as src:\n",
    "            \n",
    "            affine = src.transform\n",
    "            array = src.read(1)\n",
    "            array[array <= 0] = 0\n",
    "            \n",
    "            population = [i['sum'] for i in zonal_stats(\n",
    "                boundary['geometry'], array, nodata = 255,\n",
    "                stats = ['sum'], affine = affine)][0]\n",
    "            output.append({\n",
    "                'NAME_1': boundary['NAME_1'],\n",
    "                'GID_1': boundary[grid_level],\n",
    "                'population': population\n",
    "            })\n",
    "            \n",
    "    return output"
   ]
  },
  {
   "attachments": {},
   "cell_type": "markdown",
   "id": "2675383d",
   "metadata": {},
   "source": [
    "We now apply the function to our population layer\n",
    "\n"
   ]
  },
  {
   "cell_type": "code",
   "execution_count": null,
   "id": "344e3f8e",
   "metadata": {},
   "outputs": [],
   "source": [
    "filename = (\"C:/Users/bmwan/Desktop/5.2/Link Budget/data/raw/ppp_2020_1km_Aggregated.tif\")\n",
    "folder = os.path.join('data', 'raw', 'worldpop')\n",
    "path_population = os.path.join(folder, filename)\n",
    "pop = process_population_tif(path_population, 'GID_1')"
   ]
  },
  {
   "attachments": {},
   "cell_type": "markdown",
   "id": "5e9c9a79",
   "metadata": {},
   "source": [
    "And then we store our results as csv file in the *processed/KEN* folder"
   ]
  },
  {
   "cell_type": "code",
   "execution_count": null,
   "id": "d222951b",
   "metadata": {},
   "outputs": [],
   "source": [
    "pop_results = pd.DataFrame(pop)\n",
    "path_out = os.path.join('data', 'processed', 'KEN', 'population.csv')\n",
    "pop_results.to_csv(path_out)"
   ]
  },
  {
   "cell_type": "code",
   "execution_count": null,
   "id": "61ed4db8",
   "metadata": {},
   "outputs": [],
   "source": [
    "path_out = os.path.join(\"C:/Users/bmwan/Desktop/5.2/Link Budget/data/processed/KEN/population.csv\")\n",
    "pop_results = pd.read_csv(path_out)"
   ]
  },
  {
   "attachments": {},
   "cell_type": "markdown",
   "id": "656698f8",
   "metadata": {},
   "source": [
    "#### Plotting population map "
   ]
  },
  {
   "cell_type": "code",
   "execution_count": null,
   "id": "1cb0aed9",
   "metadata": {},
   "outputs": [],
   "source": [
    "pop_results.head()"
   ]
  },
  {
   "attachments": {},
   "cell_type": "markdown",
   "id": "d4f21f2b",
   "metadata": {},
   "source": [
    "First, we import country boundary."
   ]
  },
  {
   "cell_type": "code",
   "execution_count": null,
   "id": "0ee20d57",
   "metadata": {},
   "outputs": [],
   "source": [
    "#import our boundaries data\n",
    "filename = 'regions_1_KEN.shp'\n",
    "path_in = os.path.join(\"C:/Users/bmwan/Desktop/5.2/Link Budget/data/processed/KEN/regions/\", filename) \n",
    "country_boundaries = gpd.read_file(path_in)\n",
    "country_boundaries.head(5)"
   ]
  },
  {
   "cell_type": "code",
   "execution_count": null,
   "id": "61c7e322",
   "metadata": {},
   "outputs": [],
   "source": [
    "boundaries.head(5)"
   ]
  },
  {
   "cell_type": "code",
   "execution_count": null,
   "id": "7dce2941",
   "metadata": {},
   "outputs": [],
   "source": [
    "boundaries.columns"
   ]
  },
  {
   "cell_type": "code",
   "execution_count": null,
   "id": "9fda70a5",
   "metadata": {},
   "outputs": [],
   "source": [
    "boundaries['GID_1','NAME_1_x','geometry']\n",
    "boundaries['area'] = boundaries.geometry.area\n",
    "boundaries.to_csv(\"C:/Users/bmwan/Desktop/5.2/Link Budget/data/processed/Boundaries/b_1.csv\")"
   ]
  },
  {
   "cell_type": "code",
   "execution_count": null,
   "id": "3dfb7f7b",
   "metadata": {},
   "outputs": [],
   "source": [
    "country_boundaries = country_boundaries[['NAME_1', 'GID_1', 'geometry']]\n",
    "country_boundaries.head(5)"
   ]
  },
  {
   "cell_type": "code",
   "execution_count": null,
   "id": "25cfbd56",
   "metadata": {},
   "outputs": [],
   "source": [
    "country_boundaries.head()"
   ]
  },
  {
   "cell_type": "markdown",
   "id": "60e1e27c",
   "metadata": {},
   "source": [
    "And then we import the previously-saved population csv file."
   ]
  },
  {
   "cell_type": "code",
   "execution_count": null,
   "id": "c4d9d055",
   "metadata": {},
   "outputs": [],
   "source": [
    "boundaries = country_boundaries.merge(pop_results, left_on = 'GID_1', right_on = 'GID_1')\n",
    "boundaries = boundaries.drop(['NAME_1_y'], axis = 1)\n",
    "boundaries.to_csv(\"population.csv\")\n",
    "boundaries.head(5)"
   ]
  },
  {
   "cell_type": "code",
   "execution_count": null,
   "id": "3caaecbf",
   "metadata": {},
   "outputs": [],
   "source": [
    "#import our population data\n",
    "filename = \"C:/Users/bmwan/Desktop/5.2/Link Budget/data/processed/KEN/population.csv\"\n",
    "path_in = os.path.join('data', 'processed', 'KEN', filename) \n",
    "data = pd.read_csv(path_in)"
   ]
  },
  {
   "attachments": {},
   "cell_type": "markdown",
   "id": "0ceb3bea",
   "metadata": {},
   "source": [
    "First, we'll show the range of each colormap"
   ]
  },
  {
   "cell_type": "code",
   "execution_count": null,
   "id": "2ae14893",
   "metadata": {},
   "outputs": [],
   "source": [
    "cmaps = {}\n",
    "\n",
    "gradient = np.linspace(0, 1, 256)\n",
    "gradient = np.vstack((gradient, gradient))\n",
    "\n",
    "\n",
    "def plot_color_gradients(category, cmap_list):\n",
    "    nrows = len(cmap_list)\n",
    "    figh = 0.35 + 0.15 + (nrows + (nrows - 1) * 0.1) * 0.22\n",
    "    fig, axs = plt.subplots(nrows=nrows + 1, figsize=(6.4, figh))\n",
    "    fig.subplots_adjust(top=1 - 0.35 / figh, bottom=0.15 / figh,\n",
    "                        left=0.2, right=0.99)\n",
    "    axs[0].set_title(f'{category} colormaps', fontsize=14)\n",
    "\n",
    "    for ax, name in zip(axs, cmap_list):\n",
    "        ax.imshow(gradient, aspect='auto', cmap=plt.colormaps[name])\n",
    "        ax.text(-0.01, 0.5, name, va='center', ha='right', fontsize=10,\n",
    "                transform=ax.transAxes)\n",
    "    for ax in axs:\n",
    "        ax.set_axis_off()\n",
    "    cmaps[category] = cmap_list"
   ]
  },
  {
   "attachments": {},
   "cell_type": "markdown",
   "id": "310af7eb",
   "metadata": {},
   "source": [
    "We then write a function to plot the data."
   ]
  },
  {
   "attachments": {},
   "cell_type": "markdown",
   "id": "9c7e4171",
   "metadata": {},
   "source": [
    "<div class=\"alert alert-block alert-info\">\n",
    "    \n",
    "<b>Note:</b> You need to manually adjust the bins and labels inside the function depending on the distribution of your dataset.\n",
    "\n",
    "</div>"
   ]
  },
  {
   "cell_type": "code",
   "execution_count": null,
   "id": "acc24c7c",
   "metadata": {},
   "outputs": [],
   "source": [
    "def plot_population(country_boundaries, csv_data, gid_level, iso3):\n",
    "    \"\"\"\n",
    "    Plots the country's population at sub-region level.\n",
    "    \n",
    "    Parameters\n",
    "    ----------\n",
    "    country_boundaries : string\n",
    "        Name of the country boundary .shp file\n",
    "    csv_data : string\n",
    "        Name of the csv file containing the population data\n",
    "        at sub-regional level\n",
    "    gid_level : string\n",
    "        Name of the GID level\n",
    "    country_iso3 = string\n",
    "        ISO3 of the country\n",
    "    \n",
    "    Return\n",
    "    ------\n",
    "    fig : python object\n",
    "        A map of population distribution. \n",
    "    \"\"\"\n",
    "    plot_color_gradients ('Qualitative',\n",
    "                     ['Pastel1', 'Pastel2', 'Paired', 'Accent', 'Dark2',\n",
    "                      'Set1', 'Set2', 'Set3', 'tab10', 'tab20', 'tab20b',\n",
    "                      'tab20c'])\n",
    "    boundaries = country_boundaries.merge(csv_data, left_on = gid_level, #merge our population data onto our boundaries\n",
    "                                  right_on = gid_level)\n",
    "    \n",
    "    bins = [-1e6, 10000, 20000, 30000, 40000, 50000, 60000,        #define value bins and then labels for each one\n",
    "            70000, 80000, 90000, 100000, 110000, 120000, 130000,      # 24\n",
    "            140000, 150000, 160000, 170000, 180000, 190000, 200000,\n",
    "            210000, 220000, 230000]\n",
    "    \n",
    "    labels = [\n",
    "                '1-10k','10-20k','20-30k', '30-40k',      #46\n",
    "                '40-50k', '50-60k','60-70k', '70-80k', \n",
    "                '80-90k', '90-100k',\n",
    "                '100-110k', '110-120k','120-130k', '130-140k',\n",
    "                '140-150k', '150-160k', '160-170k', '170-180k',\n",
    "                '180-190k', '190-200k','200-210k', '210-220k', \n",
    "                '>220k'\n",
    "                ]\n",
    "     \n",
    "    boundaries['bin'] = pd.cut(                                   #create a new variable with our bin labels\n",
    "        boundaries['population'], \n",
    "        bins = bins,\n",
    "        labels = labels\n",
    "    )   \n",
    "    \n",
    "    sns.set(font_scale = 0.9)                                     #open a new seaborn figure\n",
    "    fig, ax = plt.subplots(1, 1, figsize = (8, 8))\n",
    "\n",
    "    base = boundaries.plot(column = 'bin', ax = ax,               #now plot our data using pandas plot\n",
    "                           cmap = 'Blues', linewidth = 0, \n",
    "                           legend = True, antialiased = False)\n",
    "    #allocate a plot title \n",
    "    n = len(boundaries)\n",
    "    name = ' Kenyan Population by Sub-Region(n={})'.format(n)\n",
    "    fig.suptitle(name)\n",
    "    \n",
    "    filename = 'kenyan_population_2.png'\n",
    "    folder_out = os.path.join('data', 'processed', iso3)    \n",
    "    if not os.path.exists(folder_out):  \n",
    "        os.makedirs(folder_out) \n",
    "    path_out = os.path.join(folder_out, filename)\n",
    "    fig.savefig(path_out)   \n",
    "    plt.close(fig)\n",
    "\n",
    "    fig\n",
    "    \n",
    "    return fig"
   ]
  },
  {
   "cell_type": "code",
   "execution_count": null,
   "id": "e798846f",
   "metadata": {},
   "outputs": [],
   "source": [
    "plot_population(country_boundaries, pop_results, 'GID_1', 'KEN')"
   ]
  }
 ],
 "metadata": {
  "kernelspec": {
   "display_name": "Python 3 (ipykernel)",
   "language": "python",
   "name": "python3"
  },
  "language_info": {
   "codemirror_mode": {
    "name": "ipython",
    "version": 3
   },
   "file_extension": ".py",
   "mimetype": "text/x-python",
   "name": "python",
   "nbconvert_exporter": "python",
   "pygments_lexer": "ipython3",
   "version": "3.10.9"
  }
 },
 "nbformat": 4,
 "nbformat_minor": 5
}
